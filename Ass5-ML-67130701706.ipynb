{
 "cells": [
  {
   "cell_type": "markdown",
   "id": "54e79383-4b63-4512-a267-d13d4e2ea510",
   "metadata": {},
   "source": [
    "# Assignment 5:\n",
    "### รหัสนักศึกษา: 9550447\n",
    "### ชื่อ-นามสกุล: นฤมล  เพ็ญพานิชย์\n",
    "### หลักสูตร: SED"
   ]
  },
  {
   "cell_type": "markdown",
   "id": "edfb5156-a29e-4c3f-a9a2-e5bce25b38de",
   "metadata": {},
   "source": [
    "## Imbalanced Data Classification & Model Deployment\n",
    "\n",
    "- Understand the challenges of imbalanced classification.\n",
    "- Train different models with various resampling techniques.\n",
    "- Compare model performance using ROC and PR curves.\n",
    "- Deploy the best-performing model using Streamlit.\n"
   ]
  },
  {
   "cell_type": "code",
   "execution_count": 13,
   "id": "c728f6bf-a5a5-4f1f-9000-9915ca0a822d",
   "metadata": {},
   "outputs": [
    {
     "name": "stdout",
     "output_type": "stream",
     "text": [
      "Requirement already satisfied: imbalanced-learn in c:\\users\\lenovo\\anaconda3\\lib\\site-packages (0.12.3)\n",
      "Requirement already satisfied: scikit-learn in c:\\users\\lenovo\\anaconda3\\lib\\site-packages (1.4.2)\n",
      "Requirement already satisfied: matplotlib in c:\\users\\lenovo\\anaconda3\\lib\\site-packages (3.8.4)\n",
      "Requirement already satisfied: seaborn in c:\\users\\lenovo\\anaconda3\\lib\\site-packages (0.13.2)\n",
      "Requirement already satisfied: streamlit in c:\\users\\lenovo\\anaconda3\\lib\\site-packages (1.32.0)\n",
      "Requirement already satisfied: numpy>=1.17.3 in c:\\users\\lenovo\\anaconda3\\lib\\site-packages (from imbalanced-learn) (1.26.4)\n",
      "Requirement already satisfied: scipy>=1.5.0 in c:\\users\\lenovo\\anaconda3\\lib\\site-packages (from imbalanced-learn) (1.13.1)\n",
      "Requirement already satisfied: joblib>=1.1.1 in c:\\users\\lenovo\\anaconda3\\lib\\site-packages (from imbalanced-learn) (1.4.2)\n",
      "Requirement already satisfied: threadpoolctl>=2.0.0 in c:\\users\\lenovo\\anaconda3\\lib\\site-packages (from imbalanced-learn) (2.2.0)\n",
      "Requirement already satisfied: contourpy>=1.0.1 in c:\\users\\lenovo\\anaconda3\\lib\\site-packages (from matplotlib) (1.2.0)\n",
      "Requirement already satisfied: cycler>=0.10 in c:\\users\\lenovo\\anaconda3\\lib\\site-packages (from matplotlib) (0.11.0)\n",
      "Requirement already satisfied: fonttools>=4.22.0 in c:\\users\\lenovo\\anaconda3\\lib\\site-packages (from matplotlib) (4.51.0)\n",
      "Requirement already satisfied: kiwisolver>=1.3.1 in c:\\users\\lenovo\\anaconda3\\lib\\site-packages (from matplotlib) (1.4.4)\n",
      "Requirement already satisfied: packaging>=20.0 in c:\\users\\lenovo\\anaconda3\\lib\\site-packages (from matplotlib) (23.2)\n",
      "Requirement already satisfied: pillow>=8 in c:\\users\\lenovo\\anaconda3\\lib\\site-packages (from matplotlib) (10.3.0)\n",
      "Requirement already satisfied: pyparsing>=2.3.1 in c:\\users\\lenovo\\anaconda3\\lib\\site-packages (from matplotlib) (3.0.9)\n",
      "Requirement already satisfied: python-dateutil>=2.7 in c:\\users\\lenovo\\appdata\\roaming\\python\\python312\\site-packages (from matplotlib) (2.9.0.post0)\n",
      "Requirement already satisfied: pandas>=1.2 in c:\\users\\lenovo\\anaconda3\\lib\\site-packages (from seaborn) (2.2.2)\n",
      "Requirement already satisfied: altair<6,>=4.0 in c:\\users\\lenovo\\anaconda3\\lib\\site-packages (from streamlit) (5.0.1)\n",
      "Requirement already satisfied: blinker<2,>=1.0.0 in c:\\users\\lenovo\\anaconda3\\lib\\site-packages (from streamlit) (1.6.2)\n",
      "Requirement already satisfied: cachetools<6,>=4.0 in c:\\users\\lenovo\\anaconda3\\lib\\site-packages (from streamlit) (5.3.3)\n",
      "Requirement already satisfied: click<9,>=7.0 in c:\\users\\lenovo\\anaconda3\\lib\\site-packages (from streamlit) (8.1.7)\n",
      "Requirement already satisfied: protobuf<5,>=3.20 in c:\\users\\lenovo\\anaconda3\\lib\\site-packages (from streamlit) (3.20.3)\n",
      "Requirement already satisfied: pyarrow>=7.0 in c:\\users\\lenovo\\anaconda3\\lib\\site-packages (from streamlit) (14.0.2)\n",
      "Requirement already satisfied: requests<3,>=2.27 in c:\\users\\lenovo\\anaconda3\\lib\\site-packages (from streamlit) (2.32.2)\n",
      "Requirement already satisfied: rich<14,>=10.14.0 in c:\\users\\lenovo\\anaconda3\\lib\\site-packages (from streamlit) (13.3.5)\n",
      "Requirement already satisfied: tenacity<9,>=8.1.0 in c:\\users\\lenovo\\anaconda3\\lib\\site-packages (from streamlit) (8.2.2)\n",
      "Requirement already satisfied: toml<2,>=0.10.1 in c:\\users\\lenovo\\anaconda3\\lib\\site-packages (from streamlit) (0.10.2)\n",
      "Requirement already satisfied: typing-extensions<5,>=4.3.0 in c:\\users\\lenovo\\anaconda3\\lib\\site-packages (from streamlit) (4.11.0)\n",
      "Requirement already satisfied: gitpython!=3.1.19,<4,>=3.0.7 in c:\\users\\lenovo\\anaconda3\\lib\\site-packages (from streamlit) (3.1.37)\n",
      "Requirement already satisfied: pydeck<1,>=0.8.0b4 in c:\\users\\lenovo\\anaconda3\\lib\\site-packages (from streamlit) (0.8.0)\n",
      "Requirement already satisfied: tornado<7,>=6.0.3 in c:\\users\\lenovo\\appdata\\roaming\\python\\python312\\site-packages (from streamlit) (6.4.1)\n",
      "Requirement already satisfied: watchdog>=2.1.5 in c:\\users\\lenovo\\anaconda3\\lib\\site-packages (from streamlit) (4.0.1)\n",
      "Requirement already satisfied: jinja2 in c:\\users\\lenovo\\anaconda3\\lib\\site-packages (from altair<6,>=4.0->streamlit) (3.1.4)\n",
      "Requirement already satisfied: jsonschema>=3.0 in c:\\users\\lenovo\\anaconda3\\lib\\site-packages (from altair<6,>=4.0->streamlit) (4.19.2)\n",
      "Requirement already satisfied: toolz in c:\\users\\lenovo\\anaconda3\\lib\\site-packages (from altair<6,>=4.0->streamlit) (0.12.0)\n",
      "Requirement already satisfied: colorama in c:\\users\\lenovo\\appdata\\roaming\\python\\python312\\site-packages (from click<9,>=7.0->streamlit) (0.4.6)\n",
      "Requirement already satisfied: gitdb<5,>=4.0.1 in c:\\users\\lenovo\\anaconda3\\lib\\site-packages (from gitpython!=3.1.19,<4,>=3.0.7->streamlit) (4.0.7)\n",
      "Requirement already satisfied: pytz>=2020.1 in c:\\users\\lenovo\\anaconda3\\lib\\site-packages (from pandas>=1.2->seaborn) (2024.1)\n",
      "Requirement already satisfied: tzdata>=2022.7 in c:\\users\\lenovo\\anaconda3\\lib\\site-packages (from pandas>=1.2->seaborn) (2023.3)\n",
      "Requirement already satisfied: six>=1.5 in c:\\users\\lenovo\\appdata\\roaming\\python\\python312\\site-packages (from python-dateutil>=2.7->matplotlib) (1.16.0)\n",
      "Requirement already satisfied: charset-normalizer<4,>=2 in c:\\users\\lenovo\\anaconda3\\lib\\site-packages (from requests<3,>=2.27->streamlit) (2.0.4)\n",
      "Requirement already satisfied: idna<4,>=2.5 in c:\\users\\lenovo\\anaconda3\\lib\\site-packages (from requests<3,>=2.27->streamlit) (3.7)\n",
      "Requirement already satisfied: urllib3<3,>=1.21.1 in c:\\users\\lenovo\\anaconda3\\lib\\site-packages (from requests<3,>=2.27->streamlit) (2.2.2)\n",
      "Requirement already satisfied: certifi>=2017.4.17 in c:\\users\\lenovo\\anaconda3\\lib\\site-packages (from requests<3,>=2.27->streamlit) (2024.8.30)\n",
      "Requirement already satisfied: markdown-it-py<3.0.0,>=2.2.0 in c:\\users\\lenovo\\anaconda3\\lib\\site-packages (from rich<14,>=10.14.0->streamlit) (2.2.0)\n",
      "Requirement already satisfied: pygments<3.0.0,>=2.13.0 in c:\\users\\lenovo\\appdata\\roaming\\python\\python312\\site-packages (from rich<14,>=10.14.0->streamlit) (2.18.0)\n",
      "Requirement already satisfied: smmap<5,>=3.0.1 in c:\\users\\lenovo\\anaconda3\\lib\\site-packages (from gitdb<5,>=4.0.1->gitpython!=3.1.19,<4,>=3.0.7->streamlit) (4.0.0)\n",
      "Requirement already satisfied: MarkupSafe>=2.0 in c:\\users\\lenovo\\anaconda3\\lib\\site-packages (from jinja2->altair<6,>=4.0->streamlit) (2.1.3)\n",
      "Requirement already satisfied: attrs>=22.2.0 in c:\\users\\lenovo\\anaconda3\\lib\\site-packages (from jsonschema>=3.0->altair<6,>=4.0->streamlit) (23.1.0)\n",
      "Requirement already satisfied: jsonschema-specifications>=2023.03.6 in c:\\users\\lenovo\\anaconda3\\lib\\site-packages (from jsonschema>=3.0->altair<6,>=4.0->streamlit) (2023.7.1)\n",
      "Requirement already satisfied: referencing>=0.28.4 in c:\\users\\lenovo\\anaconda3\\lib\\site-packages (from jsonschema>=3.0->altair<6,>=4.0->streamlit) (0.30.2)\n",
      "Requirement already satisfied: rpds-py>=0.7.1 in c:\\users\\lenovo\\anaconda3\\lib\\site-packages (from jsonschema>=3.0->altair<6,>=4.0->streamlit) (0.10.6)\n",
      "Requirement already satisfied: mdurl~=0.1 in c:\\users\\lenovo\\anaconda3\\lib\\site-packages (from markdown-it-py<3.0.0,>=2.2.0->rich<14,>=10.14.0->streamlit) (0.1.0)\n",
      "Note: you may need to restart the kernel to use updated packages.\n"
     ]
    }
   ],
   "source": [
    "pip install imbalanced-learn scikit-learn matplotlib seaborn streamlit\n"
   ]
  },
  {
   "cell_type": "markdown",
   "id": "aee2f45c-3681-4b87-916c-eae00678adec",
   "metadata": {},
   "source": [
    "## **2. Load and Explore the Dataset**  \n",
    "Select a dataset from [`imbalanced-learn datasets`](https://imbalanced-learn.org/stable/datasets/index.html). Example: `fetch_datasets` provides multiple datasets."
   ]
  },
  {
   "cell_type": "code",
   "execution_count": 21,
   "id": "68408aef-869a-40dc-8f7e-732d4de301cf",
   "metadata": {
    "tags": []
   },
   "outputs": [
    {
     "name": "stdout",
     "output_type": "stream",
     "text": [
      "Target\n",
      "-1    4715\n",
      " 1     183\n",
      "Name: count, dtype: int64\n"
     ]
    }
   ],
   "source": [
    "from imblearn.datasets import fetch_datasets\n",
    "import pandas as pd\n",
    "\n",
    "# Load an imbalanced dataset (modify as needed)\n",
    "dataset = fetch_datasets()['wine_quality']  # Example: 'wine_quality'\n",
    "X, y = dataset.data, dataset.target\n",
    "\n",
    "# Convert to DataFrame\n",
    "df = pd.DataFrame(X, columns=[f\"Feature_{i}\" for i in range(X.shape[1])])\n",
    "df['Target'] = y\n",
    "\n",
    "# Check class distribution\n",
    "print(df['Target'].value_counts())"
   ]
  },
  {
   "cell_type": "code",
   "execution_count": 49,
   "id": "6925179b-d383-4ca1-b252-8178b4d25159",
   "metadata": {},
   "outputs": [
    {
     "data": {
      "text/html": [
       "<div>\n",
       "<style scoped>\n",
       "    .dataframe tbody tr th:only-of-type {\n",
       "        vertical-align: middle;\n",
       "    }\n",
       "\n",
       "    .dataframe tbody tr th {\n",
       "        vertical-align: top;\n",
       "    }\n",
       "\n",
       "    .dataframe thead th {\n",
       "        text-align: right;\n",
       "    }\n",
       "</style>\n",
       "<table border=\"1\" class=\"dataframe\">\n",
       "  <thead>\n",
       "    <tr style=\"text-align: right;\">\n",
       "      <th></th>\n",
       "      <th>Feature_0</th>\n",
       "      <th>Feature_1</th>\n",
       "      <th>Feature_2</th>\n",
       "      <th>Feature_3</th>\n",
       "      <th>Feature_4</th>\n",
       "      <th>Feature_5</th>\n",
       "      <th>Feature_6</th>\n",
       "      <th>Feature_7</th>\n",
       "      <th>Feature_8</th>\n",
       "      <th>Feature_9</th>\n",
       "      <th>Feature_10</th>\n",
       "      <th>Target</th>\n",
       "    </tr>\n",
       "  </thead>\n",
       "  <tbody>\n",
       "    <tr>\n",
       "      <th>0</th>\n",
       "      <td>7.0</td>\n",
       "      <td>0.27</td>\n",
       "      <td>0.36</td>\n",
       "      <td>20.7</td>\n",
       "      <td>0.045</td>\n",
       "      <td>45.0</td>\n",
       "      <td>170.0</td>\n",
       "      <td>1.00100</td>\n",
       "      <td>3.00</td>\n",
       "      <td>0.45</td>\n",
       "      <td>8.8</td>\n",
       "      <td>-1</td>\n",
       "    </tr>\n",
       "    <tr>\n",
       "      <th>1</th>\n",
       "      <td>6.3</td>\n",
       "      <td>0.30</td>\n",
       "      <td>0.34</td>\n",
       "      <td>1.6</td>\n",
       "      <td>0.049</td>\n",
       "      <td>14.0</td>\n",
       "      <td>132.0</td>\n",
       "      <td>0.99400</td>\n",
       "      <td>3.30</td>\n",
       "      <td>0.49</td>\n",
       "      <td>9.5</td>\n",
       "      <td>-1</td>\n",
       "    </tr>\n",
       "    <tr>\n",
       "      <th>2</th>\n",
       "      <td>8.1</td>\n",
       "      <td>0.28</td>\n",
       "      <td>0.40</td>\n",
       "      <td>6.9</td>\n",
       "      <td>0.050</td>\n",
       "      <td>30.0</td>\n",
       "      <td>97.0</td>\n",
       "      <td>0.99510</td>\n",
       "      <td>3.26</td>\n",
       "      <td>0.44</td>\n",
       "      <td>10.1</td>\n",
       "      <td>-1</td>\n",
       "    </tr>\n",
       "    <tr>\n",
       "      <th>3</th>\n",
       "      <td>7.2</td>\n",
       "      <td>0.23</td>\n",
       "      <td>0.32</td>\n",
       "      <td>8.5</td>\n",
       "      <td>0.058</td>\n",
       "      <td>47.0</td>\n",
       "      <td>186.0</td>\n",
       "      <td>0.99560</td>\n",
       "      <td>3.19</td>\n",
       "      <td>0.40</td>\n",
       "      <td>9.9</td>\n",
       "      <td>-1</td>\n",
       "    </tr>\n",
       "    <tr>\n",
       "      <th>4</th>\n",
       "      <td>7.2</td>\n",
       "      <td>0.23</td>\n",
       "      <td>0.32</td>\n",
       "      <td>8.5</td>\n",
       "      <td>0.058</td>\n",
       "      <td>47.0</td>\n",
       "      <td>186.0</td>\n",
       "      <td>0.99560</td>\n",
       "      <td>3.19</td>\n",
       "      <td>0.40</td>\n",
       "      <td>9.9</td>\n",
       "      <td>-1</td>\n",
       "    </tr>\n",
       "    <tr>\n",
       "      <th>...</th>\n",
       "      <td>...</td>\n",
       "      <td>...</td>\n",
       "      <td>...</td>\n",
       "      <td>...</td>\n",
       "      <td>...</td>\n",
       "      <td>...</td>\n",
       "      <td>...</td>\n",
       "      <td>...</td>\n",
       "      <td>...</td>\n",
       "      <td>...</td>\n",
       "      <td>...</td>\n",
       "      <td>...</td>\n",
       "    </tr>\n",
       "    <tr>\n",
       "      <th>4893</th>\n",
       "      <td>6.2</td>\n",
       "      <td>0.21</td>\n",
       "      <td>0.29</td>\n",
       "      <td>1.6</td>\n",
       "      <td>0.039</td>\n",
       "      <td>24.0</td>\n",
       "      <td>92.0</td>\n",
       "      <td>0.99114</td>\n",
       "      <td>3.27</td>\n",
       "      <td>0.50</td>\n",
       "      <td>11.2</td>\n",
       "      <td>-1</td>\n",
       "    </tr>\n",
       "    <tr>\n",
       "      <th>4894</th>\n",
       "      <td>6.6</td>\n",
       "      <td>0.32</td>\n",
       "      <td>0.36</td>\n",
       "      <td>8.0</td>\n",
       "      <td>0.047</td>\n",
       "      <td>57.0</td>\n",
       "      <td>168.0</td>\n",
       "      <td>0.99490</td>\n",
       "      <td>3.15</td>\n",
       "      <td>0.46</td>\n",
       "      <td>9.6</td>\n",
       "      <td>-1</td>\n",
       "    </tr>\n",
       "    <tr>\n",
       "      <th>4895</th>\n",
       "      <td>6.5</td>\n",
       "      <td>0.24</td>\n",
       "      <td>0.19</td>\n",
       "      <td>1.2</td>\n",
       "      <td>0.041</td>\n",
       "      <td>30.0</td>\n",
       "      <td>111.0</td>\n",
       "      <td>0.99254</td>\n",
       "      <td>2.99</td>\n",
       "      <td>0.46</td>\n",
       "      <td>9.4</td>\n",
       "      <td>-1</td>\n",
       "    </tr>\n",
       "    <tr>\n",
       "      <th>4896</th>\n",
       "      <td>5.5</td>\n",
       "      <td>0.29</td>\n",
       "      <td>0.30</td>\n",
       "      <td>1.1</td>\n",
       "      <td>0.022</td>\n",
       "      <td>20.0</td>\n",
       "      <td>110.0</td>\n",
       "      <td>0.98869</td>\n",
       "      <td>3.34</td>\n",
       "      <td>0.38</td>\n",
       "      <td>12.8</td>\n",
       "      <td>-1</td>\n",
       "    </tr>\n",
       "    <tr>\n",
       "      <th>4897</th>\n",
       "      <td>6.0</td>\n",
       "      <td>0.21</td>\n",
       "      <td>0.38</td>\n",
       "      <td>0.8</td>\n",
       "      <td>0.020</td>\n",
       "      <td>22.0</td>\n",
       "      <td>98.0</td>\n",
       "      <td>0.98941</td>\n",
       "      <td>3.26</td>\n",
       "      <td>0.32</td>\n",
       "      <td>11.8</td>\n",
       "      <td>-1</td>\n",
       "    </tr>\n",
       "  </tbody>\n",
       "</table>\n",
       "<p>4898 rows × 12 columns</p>\n",
       "</div>"
      ],
      "text/plain": [
       "      Feature_0  Feature_1  Feature_2  Feature_3  Feature_4  Feature_5  \\\n",
       "0           7.0       0.27       0.36       20.7      0.045       45.0   \n",
       "1           6.3       0.30       0.34        1.6      0.049       14.0   \n",
       "2           8.1       0.28       0.40        6.9      0.050       30.0   \n",
       "3           7.2       0.23       0.32        8.5      0.058       47.0   \n",
       "4           7.2       0.23       0.32        8.5      0.058       47.0   \n",
       "...         ...        ...        ...        ...        ...        ...   \n",
       "4893        6.2       0.21       0.29        1.6      0.039       24.0   \n",
       "4894        6.6       0.32       0.36        8.0      0.047       57.0   \n",
       "4895        6.5       0.24       0.19        1.2      0.041       30.0   \n",
       "4896        5.5       0.29       0.30        1.1      0.022       20.0   \n",
       "4897        6.0       0.21       0.38        0.8      0.020       22.0   \n",
       "\n",
       "      Feature_6  Feature_7  Feature_8  Feature_9  Feature_10  Target  \n",
       "0         170.0    1.00100       3.00       0.45         8.8      -1  \n",
       "1         132.0    0.99400       3.30       0.49         9.5      -1  \n",
       "2          97.0    0.99510       3.26       0.44        10.1      -1  \n",
       "3         186.0    0.99560       3.19       0.40         9.9      -1  \n",
       "4         186.0    0.99560       3.19       0.40         9.9      -1  \n",
       "...         ...        ...        ...        ...         ...     ...  \n",
       "4893       92.0    0.99114       3.27       0.50        11.2      -1  \n",
       "4894      168.0    0.99490       3.15       0.46         9.6      -1  \n",
       "4895      111.0    0.99254       2.99       0.46         9.4      -1  \n",
       "4896      110.0    0.98869       3.34       0.38        12.8      -1  \n",
       "4897       98.0    0.98941       3.26       0.32        11.8      -1  \n",
       "\n",
       "[4898 rows x 12 columns]"
      ]
     },
     "execution_count": 49,
     "metadata": {},
     "output_type": "execute_result"
    }
   ],
   "source": [
    "df"
   ]
  },
  {
   "cell_type": "markdown",
   "id": "dfc19be1-f007-442c-a1d1-f18b74ed1005",
   "metadata": {},
   "source": [
    "## **3. Train-Test Split**  "
   ]
  },
  {
   "cell_type": "code",
   "execution_count": 23,
   "id": "e6649e83-5bd1-4e94-a511-655556c8dc44",
   "metadata": {
    "tags": []
   },
   "outputs": [],
   "source": [
    "from sklearn.model_selection import train_test_split\n",
    "\n",
    "# Split data into training and testing sets\n",
    "X_train, X_test, y_train, y_test = train_test_split(X, y, test_size=0.3, stratify=y, random_state=42)"
   ]
  },
  {
   "cell_type": "code",
   "execution_count": 51,
   "id": "09dc16b8-311c-469e-99fe-51b4790e6a66",
   "metadata": {},
   "outputs": [
    {
     "data": {
      "text/plain": [
       "(3428, 11)"
      ]
     },
     "execution_count": 51,
     "metadata": {},
     "output_type": "execute_result"
    }
   ],
   "source": [
    "X_train.shape"
   ]
  },
  {
   "cell_type": "code",
   "execution_count": 53,
   "id": "814bed4c-78b5-4aa3-915c-e662d6137914",
   "metadata": {},
   "outputs": [
    {
     "data": {
      "text/plain": [
       "(1470, 11)"
      ]
     },
     "execution_count": 53,
     "metadata": {},
     "output_type": "execute_result"
    }
   ],
   "source": [
    "X_test.shape"
   ]
  },
  {
   "cell_type": "code",
   "execution_count": 55,
   "id": "724a6515-938c-4c40-8de7-008ac1059144",
   "metadata": {},
   "outputs": [
    {
     "data": {
      "text/plain": [
       "(3428,)"
      ]
     },
     "execution_count": 55,
     "metadata": {},
     "output_type": "execute_result"
    }
   ],
   "source": [
    "y_train.shape"
   ]
  },
  {
   "cell_type": "code",
   "execution_count": 57,
   "id": "cb2ece5a-a71c-45ea-aede-beae03b962a4",
   "metadata": {},
   "outputs": [
    {
     "data": {
      "text/plain": [
       "(1470,)"
      ]
     },
     "execution_count": 57,
     "metadata": {},
     "output_type": "execute_result"
    }
   ],
   "source": [
    "y_test.shape"
   ]
  },
  {
   "cell_type": "markdown",
   "id": "c6ff86e6-1f2e-48c8-9c74-e10a2f505f87",
   "metadata": {},
   "source": [
    "## **4. Train Models**  \n",
    "\n",
    "### **4.1 Baseline Model (Logistic Regression)**"
   ]
  },
  {
   "cell_type": "code",
   "execution_count": 25,
   "id": "fbbb2681-ebcb-4c06-b6ff-353e15bdb1b3",
   "metadata": {
    "tags": []
   },
   "outputs": [
    {
     "name": "stdout",
     "output_type": "stream",
     "text": [
      "Baseline Model (Logistic Regression) Classification Report:\n",
      "              precision    recall  f1-score   support\n",
      "\n",
      "          -1       0.96      1.00      0.98      1415\n",
      "           1       0.50      0.02      0.04        55\n",
      "\n",
      "    accuracy                           0.96      1470\n",
      "   macro avg       0.73      0.51      0.51      1470\n",
      "weighted avg       0.95      0.96      0.95      1470\n",
      "\n"
     ]
    }
   ],
   "source": [
    "from sklearn.linear_model import LogisticRegression\n",
    "from sklearn.metrics import classification_report\n",
    "\n",
    "# Train a baseline model (Logistic Regression)\n",
    "base_model = LogisticRegression(random_state=42, max_iter=1000)\n",
    "base_model.fit(X_train, y_train)\n",
    "\n",
    "# Predictions\n",
    "y_pred = base_model.predict(X_test)\n",
    "print(\"Baseline Model (Logistic Regression) Classification Report:\")\n",
    "print(classification_report(y_test, y_pred))"
   ]
  },
  {
   "cell_type": "markdown",
   "id": "b48afc9b-77d6-425e-bb65-da3fa7a1ef20",
   "metadata": {},
   "source": [
    "### **4.2 Model with Undersampling (Logistic Regression)**  "
   ]
  },
  {
   "cell_type": "code",
   "execution_count": 27,
   "id": "55ff4b19-5110-483b-b747-fc3d461d9df6",
   "metadata": {
    "tags": []
   },
   "outputs": [
    {
     "name": "stdout",
     "output_type": "stream",
     "text": [
      "Undersampling Model (Logistic Regression) Classification Report:\n",
      "              precision    recall  f1-score   support\n",
      "\n",
      "          -1       0.98      0.73      0.84      1415\n",
      "           1       0.08      0.60      0.14        55\n",
      "\n",
      "    accuracy                           0.73      1470\n",
      "   macro avg       0.53      0.67      0.49      1470\n",
      "weighted avg       0.95      0.73      0.81      1470\n",
      "\n"
     ]
    }
   ],
   "source": [
    "from imblearn.under_sampling import RandomUnderSampler\n",
    "\n",
    "# Apply undersampling\n",
    "rus = RandomUnderSampler(random_state=42)\n",
    "X_train_rus, y_train_rus = rus.fit_resample(X_train, y_train)\n",
    "\n",
    "# Train Logistic Regression model\n",
    "under_model_lr = LogisticRegression(random_state=42, max_iter=1000)\n",
    "under_model_lr.fit(X_train_rus, y_train_rus)\n",
    "\n",
    "# Predictions\n",
    "y_pred_under = under_model_lr.predict(X_test)\n",
    "print(\"Undersampling Model (Logistic Regression) Classification Report:\")\n",
    "print(classification_report(y_test, y_pred_under))"
   ]
  },
  {
   "cell_type": "code",
   "execution_count": 63,
   "id": "3dfa9a63-9ffb-47f4-8c63-e70bcb85de5a",
   "metadata": {},
   "outputs": [
    {
     "data": {
      "text/plain": [
       "(3428, 11)"
      ]
     },
     "execution_count": 63,
     "metadata": {},
     "output_type": "execute_result"
    }
   ],
   "source": [
    "X_train.shape"
   ]
  },
  {
   "cell_type": "code",
   "execution_count": 61,
   "id": "d19c2689-062c-4e70-8a27-de4604462f34",
   "metadata": {},
   "outputs": [
    {
     "data": {
      "text/plain": [
       "(256,)"
      ]
     },
     "execution_count": 61,
     "metadata": {},
     "output_type": "execute_result"
    }
   ],
   "source": [
    "X_train_rus.shape"
   ]
  },
  {
   "cell_type": "code",
   "execution_count": 67,
   "id": "040da05d-331c-4e5f-a34f-0e3883adc81f",
   "metadata": {},
   "outputs": [
    {
     "data": {
      "text/plain": [
       "(3428,)"
      ]
     },
     "execution_count": 67,
     "metadata": {},
     "output_type": "execute_result"
    }
   ],
   "source": [
    "y_train.shape"
   ]
  },
  {
   "cell_type": "code",
   "execution_count": 69,
   "id": "200a37fb-af4e-45cb-a450-626a5f753a46",
   "metadata": {},
   "outputs": [
    {
     "data": {
      "text/plain": [
       "(256,)"
      ]
     },
     "execution_count": 69,
     "metadata": {},
     "output_type": "execute_result"
    }
   ],
   "source": [
    "y_train_rus.shape"
   ]
  },
  {
   "cell_type": "code",
   "execution_count": 81,
   "id": "284a9671-face-4092-b6c3-3e546fa596df",
   "metadata": {},
   "outputs": [
    {
     "data": {
      "text/plain": [
       "128"
      ]
     },
     "execution_count": 81,
     "metadata": {},
     "output_type": "execute_result"
    }
   ],
   "source": [
    "sum(y_train_rus==-1)"
   ]
  },
  {
   "cell_type": "markdown",
   "id": "214e7597-d1c2-49c9-a955-a3b55583dd78",
   "metadata": {},
   "source": [
    "### **4.3 Model with Oversampling (Logistic Regression)**  "
   ]
  },
  {
   "cell_type": "code",
   "execution_count": 29,
   "id": "821c3ea8-d0bd-4e50-8baa-1e981239030a",
   "metadata": {
    "tags": []
   },
   "outputs": [
    {
     "name": "stdout",
     "output_type": "stream",
     "text": [
      "Oversampling Model (Logistic Regression) Classification Report:\n",
      "              precision    recall  f1-score   support\n",
      "\n",
      "          -1       0.99      0.76      0.86      1415\n",
      "           1       0.10      0.71      0.18        55\n",
      "\n",
      "    accuracy                           0.76      1470\n",
      "   macro avg       0.54      0.74      0.52      1470\n",
      "weighted avg       0.95      0.76      0.83      1470\n",
      "\n"
     ]
    },
    {
     "name": "stderr",
     "output_type": "stream",
     "text": [
      "C:\\Users\\lenovo\\anaconda3\\Lib\\site-packages\\sklearn\\linear_model\\_logistic.py:469: ConvergenceWarning: lbfgs failed to converge (status=1):\n",
      "STOP: TOTAL NO. of ITERATIONS REACHED LIMIT.\n",
      "\n",
      "Increase the number of iterations (max_iter) or scale the data as shown in:\n",
      "    https://scikit-learn.org/stable/modules/preprocessing.html\n",
      "Please also refer to the documentation for alternative solver options:\n",
      "    https://scikit-learn.org/stable/modules/linear_model.html#logistic-regression\n",
      "  n_iter_i = _check_optimize_result(\n"
     ]
    }
   ],
   "source": [
    "from imblearn.over_sampling import RandomOverSampler ##change SMODE\n",
    "\n",
    "# Apply oversampling\n",
    "ros = RandomOverSampler(random_state=42)\n",
    "X_train_ros, y_train_ros = ros.fit_resample(X_train, y_train)\n",
    "\n",
    "# Train Logistic Regression model\n",
    "over_model_lr = LogisticRegression(random_state=42, max_iter=1000)\n",
    "over_model_lr.fit(X_train_ros, y_train_ros)\n",
    "\n",
    "# Predictions\n",
    "y_pred_over = over_model_lr.predict(X_test)\n",
    "print(\"Oversampling Model (Logistic Regression) Classification Report:\")\n",
    "print(classification_report(y_test, y_pred_over))"
   ]
  },
  {
   "cell_type": "code",
   "execution_count": 71,
   "id": "c3454ce2-55e3-49c4-96eb-7f4b5a724118",
   "metadata": {},
   "outputs": [
    {
     "data": {
      "text/plain": [
       "(3428, 11)"
      ]
     },
     "execution_count": 71,
     "metadata": {},
     "output_type": "execute_result"
    }
   ],
   "source": [
    "X_train.shape"
   ]
  },
  {
   "cell_type": "code",
   "execution_count": 73,
   "id": "ed8c8161-9d46-429b-a901-05fad3200114",
   "metadata": {},
   "outputs": [
    {
     "data": {
      "text/plain": [
       "(6600, 11)"
      ]
     },
     "execution_count": 73,
     "metadata": {},
     "output_type": "execute_result"
    }
   ],
   "source": [
    "X_train_ros.shape"
   ]
  },
  {
   "cell_type": "code",
   "execution_count": 75,
   "id": "f47ecaea-026d-406a-8113-cafff480aa75",
   "metadata": {},
   "outputs": [
    {
     "data": {
      "text/plain": [
       "(3428,)"
      ]
     },
     "execution_count": 75,
     "metadata": {},
     "output_type": "execute_result"
    }
   ],
   "source": [
    "y_train.shape"
   ]
  },
  {
   "cell_type": "code",
   "execution_count": 77,
   "id": "f463314e-5e27-4ce9-bf78-69a854d7409b",
   "metadata": {},
   "outputs": [
    {
     "data": {
      "text/plain": [
       "(6600,)"
      ]
     },
     "execution_count": 77,
     "metadata": {},
     "output_type": "execute_result"
    }
   ],
   "source": [
    "y_train_ros.shape"
   ]
  },
  {
   "cell_type": "code",
   "execution_count": 87,
   "id": "90c2c1b3-b713-4a00-ac5b-a5be795cd0fb",
   "metadata": {},
   "outputs": [
    {
     "data": {
      "text/plain": [
       "3300"
      ]
     },
     "execution_count": 87,
     "metadata": {},
     "output_type": "execute_result"
    }
   ],
   "source": [
    "sum(y_train_ros==1)"
   ]
  },
  {
   "cell_type": "code",
   "execution_count": 89,
   "id": "ef174ac7-dd88-4b6a-9a8a-cb44d1dd0fef",
   "metadata": {},
   "outputs": [
    {
     "name": "stdout",
     "output_type": "stream",
     "text": [
      "Oversampling Model (Logistic Regression) Classification Report:\n",
      "              precision    recall  f1-score   support\n",
      "\n",
      "          -1       0.99      0.77      0.86      1415\n",
      "           1       0.11      0.71      0.18        55\n",
      "\n",
      "    accuracy                           0.77      1470\n",
      "   macro avg       0.55      0.74      0.52      1470\n",
      "weighted avg       0.95      0.77      0.84      1470\n",
      "\n"
     ]
    }
   ],
   "source": [
    "from imblearn.over_sampling import SMOTE ##change SMOTE\n",
    "\n",
    "# Apply oversampling\n",
    "ros = SMOTE(random_state=42)\n",
    "X_train_ros, y_train_ros = ros.fit_resample(X_train, y_train)\n",
    "\n",
    "# Train Logistic Regression model\n",
    "over_model_lr = LogisticRegression(random_state=42, max_iter=1000)\n",
    "over_model_lr.fit(X_train_ros, y_train_ros)\n",
    "\n",
    "# Predictions\n",
    "y_pred_over = over_model_lr.predict(X_test)\n",
    "print(\"Oversampling Model (Logistic Regression) Classification Report:\")\n",
    "print(classification_report(y_test, y_pred_over))"
   ]
  },
  {
   "cell_type": "markdown",
   "id": "be32d6bf-6c9e-4c78-bb3e-44439a0c8737",
   "metadata": {},
   "source": [
    "### **4.4 Random Forest Model (No Resampling)**  "
   ]
  },
  {
   "cell_type": "code",
   "execution_count": 31,
   "id": "d648bff4-0a22-4b39-8cb4-2e3b3e968cf9",
   "metadata": {
    "tags": []
   },
   "outputs": [
    {
     "name": "stdout",
     "output_type": "stream",
     "text": [
      "Random Forest Model Classification Report:\n",
      "              precision    recall  f1-score   support\n",
      "\n",
      "          -1       0.97      1.00      0.98      1415\n",
      "           1       0.85      0.20      0.32        55\n",
      "\n",
      "    accuracy                           0.97      1470\n",
      "   macro avg       0.91      0.60      0.65      1470\n",
      "weighted avg       0.97      0.97      0.96      1470\n",
      "\n"
     ]
    }
   ],
   "source": [
    "from sklearn.ensemble import RandomForestClassifier\n",
    "\n",
    "# Train Random Forest model\n",
    "rf_model = RandomForestClassifier(random_state=42)\n",
    "rf_model.fit(X_train, y_train)\n",
    "\n",
    "# Predictions\n",
    "y_pred_rf = rf_model.predict(X_test)\n",
    "print(\"Random Forest Model Classification Report:\")\n",
    "print(classification_report(y_test, y_pred_rf))"
   ]
  },
  {
   "cell_type": "code",
   "execution_count": 91,
   "id": "c8475c51-cf00-4e0f-9813-71fc5a477453",
   "metadata": {},
   "outputs": [
    {
     "name": "stdout",
     "output_type": "stream",
     "text": [
      "Random Forest Model Classification Report:\n",
      "              precision    recall  f1-score   support\n",
      "\n",
      "          -1       0.98      0.97      0.98      1415\n",
      "           1       0.38      0.42      0.40        55\n",
      "\n",
      "    accuracy                           0.95      1470\n",
      "   macro avg       0.68      0.70      0.69      1470\n",
      "weighted avg       0.96      0.95      0.95      1470\n",
      "\n"
     ]
    }
   ],
   "source": [
    "### RF+SMOTE\n",
    "from sklearn.ensemble import RandomForestClassifier\n",
    "\n",
    "# Train Random Forest model\n",
    "rf_model = RandomForestClassifier(random_state=42)\n",
    "rf_model.fit(X_train_ros, y_train_ros)\n",
    "\n",
    "# Predictions\n",
    "y_pred_rf = rf_model.predict(X_test)\n",
    "print(\"Random Forest Model Classification Report:\")\n",
    "print(classification_report(y_test, y_pred_rf))"
   ]
  },
  {
   "cell_type": "markdown",
   "id": "4c35653e-acec-491f-83a7-f0b5ef32a1c1",
   "metadata": {},
   "source": [
    "## **5. Compare Model Performance**  \n",
    "\n",
    "### **5.1 Plot ROC Curve & ROC-AUC Score**"
   ]
  },
  {
   "cell_type": "code",
   "execution_count": 33,
   "id": "a7c53e95-5473-4ca8-b91f-5288fd0d84a1",
   "metadata": {
    "tags": []
   },
   "outputs": [
    {
     "data": {
      "image/png": "[encoded data removed]",
      "text/plain": [
       "<Figure size 800x600 with 1 Axes>"
      ]
     },
     "metadata": {},
     "output_type": "display_data"
    }
   ],
   "source": [
    "from sklearn.metrics import roc_curve, auc\n",
    "import matplotlib.pyplot as plt\n",
    "\n",
    "models = {\n",
    "    \"Logistic Regression\": base_model,\n",
    "    \"Undersampling (Logistic Regression)\": under_model_lr,\n",
    "    \"Oversampling (Logistic Regression)\": over_model_lr,\n",
    "    \"Random Forest\": rf_model\n",
    "}\n",
    "\n",
    "plt.figure(figsize=(8, 6))\n",
    "\n",
    "for name, model in models.items():\n",
    "    y_prob = model.predict_proba(X_test)[:, 1]\n",
    "    fpr, tpr, _ = roc_curve(y_test, y_prob, pos_label=1)\n",
    "    roc_auc = auc(fpr, tpr)\n",
    "    plt.plot(fpr, tpr, label=f'{name} (AUC = {roc_auc:.2f})')\n",
    "\n",
    "plt.plot([0, 1], [0, 1], linestyle=\"--\", color=\"gray\")\n",
    "plt.xlabel(\"False Positive Rate\")\n",
    "plt.ylabel(\"True Positive Rate\")\n",
    "plt.title(\"ROC Curve\")\n",
    "plt.legend()\n",
    "plt.show()"
   ]
  },
  {
   "cell_type": "code",
   "execution_count": 97,
   "id": "ce3598a6-bf47-4db1-826a-ccf2b28de0d7",
   "metadata": {},
   "outputs": [
    {
     "data": {
      "text/plain": [
       "array([0.  , 0.03, 0.02, ..., 0.01, 0.02, 0.03])"
      ]
     },
     "execution_count": 97,
     "metadata": {},
     "output_type": "execute_result"
    }
   ],
   "source": [
    "y_prob"
   ]
  },
  {
   "cell_type": "code",
   "execution_count": 99,
   "id": "bba1d0f5-d939-43c3-b7fb-e5ac1c99d813",
   "metadata": {},
   "outputs": [
    {
     "data": {
      "text/plain": [
       "(array([0.        , 0.        , 0.        , 0.00141343, 0.00141343,\n",
       "        0.00212014, 0.00282686, 0.00282686, 0.004947  , 0.00565371,\n",
       "        0.00777385, 0.00918728, 0.00989399, 0.01130742, 0.01201413,\n",
       "        0.01484099, 0.0155477 , 0.0155477 , 0.01908127, 0.01908127,\n",
       "        0.02261484, 0.02402827, 0.02756184, 0.02897527, 0.02968198,\n",
       "        0.03250883, 0.03392226, 0.03674912, 0.03816254, 0.04310954,\n",
       "        0.05088339, 0.05724382, 0.06007067, 0.06360424, 0.07208481,\n",
       "        0.08480565, 0.09611307, 0.11590106, 0.12932862, 0.15547703,\n",
       "        0.18233216, 0.22190813, 0.27773852, 0.36961131, 0.55477032,\n",
       "        1.        ]),\n",
       " array([0.        , 0.01818182, 0.16363636, 0.16363636, 0.2       ,\n",
       "        0.2       , 0.21818182, 0.23636364, 0.23636364, 0.25454545,\n",
       "        0.25454545, 0.25454545, 0.27272727, 0.30909091, 0.32727273,\n",
       "        0.36363636, 0.4       , 0.41818182, 0.43636364, 0.45454545,\n",
       "        0.49090909, 0.54545455, 0.54545455, 0.54545455, 0.54545455,\n",
       "        0.56363636, 0.58181818, 0.61818182, 0.61818182, 0.63636364,\n",
       "        0.63636364, 0.69090909, 0.69090909, 0.70909091, 0.72727273,\n",
       "        0.76363636, 0.78181818, 0.8       , 0.81818182, 0.85454545,\n",
       "        0.85454545, 0.89090909, 0.92727273, 0.92727273, 0.98181818,\n",
       "        1.        ]))"
      ]
     },
     "execution_count": 99,
     "metadata": {},
     "output_type": "execute_result"
    }
   ],
   "source": [
    "fpr, tpr"
   ]
  },
  {
   "cell_type": "markdown",
   "id": "4f35dd09-ad10-4c7a-86d6-bee0695a15df",
   "metadata": {},
   "source": [
    "### **5.2 Plot PR Curve & PR-AUC Score**  "
   ]
  },
  {
   "cell_type": "code",
   "execution_count": 35,
   "id": "0fc55b5b-0eb7-46cd-8b03-1131765cdcf4",
   "metadata": {
    "tags": []
   },
   "outputs": [
    {
     "data": {
      "image/png": "[encoded data removed]",
      "text/plain": [
       "<Figure size 800x600 with 1 Axes>"
      ]
     },
     "metadata": {},
     "output_type": "display_data"
    }
   ],
   "source": [
    "from sklearn.metrics import precision_recall_curve, average_precision_score\n",
    "\n",
    "plt.figure(figsize=(8, 6))\n",
    "\n",
    "for name, model in models.items():\n",
    "    y_prob = model.predict_proba(X_test)[:, 1]\n",
    "    precision, recall, _ = precision_recall_curve(y_test, y_prob, pos_label=1)\n",
    "    pr_auc = average_precision_score(y_test, y_prob)\n",
    "    plt.plot(recall, precision, label=f'{name} (AP = {pr_auc:.2f})')\n",
    "\n",
    "plt.xlabel(\"Recall\")\n",
    "plt.ylabel(\"Precision\")\n",
    "plt.title(\"Precision-Recall Curve\")\n",
    "plt.legend()\n",
    "plt.show()"
   ]
  },
  {
   "cell_type": "code",
   "execution_count": 95,
   "id": "bf3cbc08-1869-446c-9208-5136fd9407ac",
   "metadata": {},
   "outputs": [
    {
     "data": {
      "text/plain": [
       "array([0.  , 0.03, 0.02, ..., 0.01, 0.02, 0.03])"
      ]
     },
     "execution_count": 95,
     "metadata": {},
     "output_type": "execute_result"
    }
   ],
   "source": [
    "y_prob"
   ]
  },
  {
   "cell_type": "markdown",
   "id": "4522f418-0f71-4101-a760-c6ba838fbb04",
   "metadata": {},
   "source": [
    "## **6. Select the Best Model for Deployment**  \n",
    "Choose the best model based on **ROC-AUC and PR-AUC scores**. Assume **oversampling model** performed best.\n",
    "\n",
    "### **6.1 Save the Model**  "
   ]
  },
  {
   "cell_type": "code",
   "execution_count": 104,
   "id": "3d38ad4a-3dd5-4248-b354-53486f970d26",
   "metadata": {
    "tags": []
   },
   "outputs": [
    {
     "data": {
      "text/plain": [
       "['best_model.pkl']"
      ]
     },
     "execution_count": 104,
     "metadata": {},
     "output_type": "execute_result"
    }
   ],
   "source": [
    "import joblib\n",
    "\n",
    "# Save the best model\n",
    "joblib.dump(rf_model, \"best_model.pkl\")"
   ]
  },
  {
   "cell_type": "markdown",
   "id": "a38edbc7-40b5-41a9-9fb9-29184043fb32",
   "metadata": {},
   "source": [
    "## **7. Deploy Model using Streamlit**  \n",
    "\n"
   ]
  },
  {
   "cell_type": "code",
   "execution_count": 116,
   "id": "cde8e8d4-c32c-4d18-8b83-665d4b7ad247",
   "metadata": {
    "tags": []
   },
   "outputs": [
    {
     "name": "stdout",
     "output_type": "stream",
     "text": [
      "Overwriting app.py\n"
     ]
    }
   ],
   "source": [
    "%%writefile app.py\n",
    "import streamlit as st\n",
    "import joblib\n",
    "import numpy as np\n",
    "\n",
    "# Load model\n",
    "model = joblib.load(\"best_model.pkl\")\n",
    "\n",
    "# Streamlit UI\n",
    "st.title(\"My first ML App (Study on Imbalanced Data Classification by 67130701706 \")\n",
    "\n",
    "# Input fields\n",
    "features = []\n",
    "for i in range(11):  # Adjust based on dataset\n",
    "    value = st.number_input(f\"Feature_{i}\", value=0.0)\n",
    "    features.append(value)\n",
    "\n",
    "# Prediction\n",
    "if st.button(\"Predict\"):\n",
    "    prediction = model.predict([np.array(features)])\n",
    "    st.write(f\"Predicted Class: {prediction[0]}\")\n"
   ]
  },
  {
   "cell_type": "code",
   "execution_count": 120,
   "id": "d8241e0a-affb-41dd-bae3-ad2eec5e0135",
   "metadata": {},
   "outputs": [
    {
     "name": "stdout",
     "output_type": "stream",
     "text": [
      "Writing requirements.txt\n"
     ]
    }
   ],
   "source": [
    "%%writefile requirements.txt \n",
    "streamlit\n",
    "joblib\n",
    "numpy\n",
    "scikit-learn\n",
    "imbalanced-learn\n",
    "matplotlib"
   ]
  },
  {
   "cell_type": "markdown",
   "id": "84056e61-bef6-43fe-ad36-10064d5d8faa",
   "metadata": {},
   "source": [
    "**Insert link of your App here.**"
   ]
  },
  {
   "cell_type": "code",
   "execution_count": null,
   "id": "41cfb03c-cf18-4577-9968-c099dee823df",
   "metadata": {},
   "outputs": [],
   "source": []
  }
 ],
 "metadata": {
  "kernelspec": {
   "display_name": "Python 3 (ipykernel)",
   "language": "python",
   "name": "python3"
  },
  "language_info": {
   "codemirror_mode": {
    "name": "ipython",
    "version": 3
   },
   "file_extension": ".py",
   "mimetype": "text/x-python",
   "name": "python",
   "nbconvert_exporter": "python",
   "pygments_lexer": "ipython3",
   "version": "3.12.4"
  }
 },
 "nbformat": 4,
 "nbformat_minor": 5
}
